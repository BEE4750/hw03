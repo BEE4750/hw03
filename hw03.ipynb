{
  "cells": [
    {
      "cell_type": "markdown",
      "metadata": {},
      "source": [
        "# BEE 4750 Homework 3: Uncertain Sea-Level Rise and Levee Reliability\n",
        "\n",
        "**Name**:\n",
        "\n",
        "**ID**:\n",
        "\n",
        "> **Due Date**\n",
        ">\n",
        "> Friday, 10/06/23, 9:00pm\n",
        "\n",
        "## Overview\n",
        "\n",
        "### Instructions\n",
        "\n",
        "This assignment asks you to conduct a Monte Carlo analysis of levee\n",
        "reliability in the face of uncertain changes to local sea levels. You\n",
        "will propagate uncertainty in equilibrium climate sensitivity through\n",
        "the energy balance model to obtain a distribution of temperatures, which\n",
        "will then drive a model of sea-level rise. You will finally use this\n",
        "distribution to assess the probability that a planned levee will achieve\n",
        "its desired reliability standard.\n",
        "\n",
        "### Load Environment\n",
        "\n",
        "The following code loads the environment and makes sure all needed\n",
        "packages are installed. This should be at the start of most Julia\n",
        "scripts."
      ],
      "id": "bfab1d09-4329-4954-a98c-a745ffe1984d"
    },
    {
      "cell_type": "code",
      "execution_count": 1,
      "metadata": {},
      "outputs": [],
      "source": [
        "import Pkg\n",
        "Pkg.activate(@__DIR__)\n",
        "Pkg.instantiate()"
      ],
      "id": "dd2ce241"
    },
    {
      "cell_type": "code",
      "execution_count": 2,
      "metadata": {},
      "outputs": [],
      "source": [
        "using Random\n",
        "using Plots\n",
        "using LaTeXStrings\n",
        "using Distributions\n",
        "using CSV\n",
        "using DataFrames"
      ],
      "id": "14c149e3"
    },
    {
      "cell_type": "markdown",
      "metadata": {},
      "source": [
        "## Problems (Total: 40 Points)"
      ],
      "id": "35a4d06d-5fec-44bf-9f0d-23a2417ae883"
    },
    {
      "cell_type": "markdown",
      "metadata": {},
      "source": [
        "### Problem 1 (12 points)\n",
        "\n",
        "Recall from class that the simple energy balance model (EBM) of\n",
        "planetary energy balance links changes in radiative forcing ($F$) to\n",
        "global mean temperature ($T$) changes through the discretized equation\n",
        "$$T_{i+1} = T_{i} + \\frac{F_i - \\lambda T_i}{cd} \\times \\Delta t,$$\n",
        "where $i$ is the current time step, $c = 4.184 \\times 10^6$\n",
        "J/K/m<sup>2</sup> is the heat capacity of water per unit area, $d$ is\n",
        "the (uncertain) depth of the mixing layer, $\\Delta t$ is the annual time\n",
        "step in seconds and $\\lambda = F_{\\text{2xCO}_2}/S$ is the climate\n",
        "feedback parameter in W/m<sup>2</sup>/$^\\circ$ C, where $S$ is the\n",
        "equilibrium climate sensitivity (the uncertain equilibrium temperature\n",
        "change resulting from a doubling of atmospheric CO<sub>2</sub>).\n",
        "Finally, while total radiative forcing can be the result of non-aerosol\n",
        "and aerosol effects, we do not know the relative intensity of aerosol\n",
        "forcing, so we represent this with an uncertain aerosol scaling factor\n",
        "$\\alpha$.\n",
        "\n",
        "We can implement this model with the following Julia function. We will\n",
        "assume an ocean mixing depth $d = 100$ m and an aerosol scaling factor\n",
        "$\\alpha = 1.3$ so we can focus on the uncertainty in $S$.\n",
        "\n",
        "The last technical concern is that “global mean temperature” does not\n",
        "make sense in absolute terms as a marker of climate change. Instead, we\n",
        "typically refer to temperature changes relative to some historical\n",
        "pre-industrial baseline. In this case, we will use the period from\n",
        "1880-1900, though this choice can vary."
      ],
      "id": "e9275e24-51fa-47bc-a4b3-c46450e66af9"
    },
    {
      "cell_type": "code",
      "execution_count": 3,
      "metadata": {},
      "outputs": [
        {
          "output_type": "display_data",
          "metadata": {},
          "data": {
            "text/plain": [
              "energy_balance_model (generic function with 1 method)"
            ]
          }
        }
      ],
      "source": [
        "# we need to split up the aerosol and non-aerosol forcings when we call the function\n",
        "function energy_balance_model(S, forcing_aerosol, forcing_non_aerosol)\n",
        "    d = 100 # ocean mixing depth [m]\n",
        "    α = 1.3 # aerosol scaling factor\n",
        "    F2xCO₂ = 4.0 # radiative forcing [W/m²] for a doubling of CO₂\n",
        "    λ = F2xCO₂/S\n",
        "    \n",
        "    c = 4.184e6 # heat capacity/area [J/K/m²]\n",
        "    C = c*d # heat capacity of mixed layer (per area)\n",
        "\n",
        "    F = forcing_non_aerosol + α*forcing_aerosol # radiative forcing\n",
        "\n",
        "    Δt = 31558152.0 # annual timestep [s]\n",
        "    \n",
        "    T = zero(F)\n",
        "    for i in 1:length(F)-1\n",
        "        T[i+1] = T[i] + (F[i] - λ*T[i])/C * Δt\n",
        "    end\n",
        "    # return temperature anomaly relative to 1880-1900 baseline\n",
        "    return T .- mean(T[1:21]) \n",
        "end"
      ],
      "id": "a6fe1fe3"
    },
    {
      "cell_type": "markdown",
      "metadata": {},
      "source": [
        "Finally, we need to load some radiative forcing data. We will use the\n",
        "radiative forcing scenario RCP 8.5. We can load this data, which is in a\n",
        "`.csv` (comma-delimited) file, into a `DataFrame`, which is a tabular\n",
        "data structure. Rows and columns in a `DataFrame` can be accessed using\n",
        "their numerical index (like a matrix), but columns also have names; you\n",
        "can access a particular column in a dataframe `df` by name using\n",
        "`df.colname` or `df[:, \"colname\"]`.\n",
        "\n",
        "Of note: this data set goes from 1750–2500, so you will need to take\n",
        "care to make sure you are using the right years at each step. For\n",
        "example, here we will constrain the data to 1880–2100, which is the\n",
        "period we are interested in."
      ],
      "id": "088d82d0-044e-493d-8911-3c46e3074df9"
    },
    {
      "cell_type": "code",
      "execution_count": 4,
      "metadata": {},
      "outputs": [
        {
          "output_type": "display_data",
          "metadata": {},
          "data": {
            "text/plain": [
              "221-element Vector{Float64}:\n",
              "  0.42741479112315905\n",
              "  0.4487940147601447\n",
              "  0.4900144276528058\n",
              " -0.019811270078689047\n",
              " -1.480725700367619\n",
              " -0.3154905163510021\n",
              "  0.233186559774844\n",
              "  0.2923308952663089\n",
              "  0.45833872365810924\n",
              "  0.5168189581089915\n",
              "  0.4144761329626494\n",
              "  0.2762327724171124\n",
              "  0.48656957869238376\n",
              "  ⋮\n",
              "  9.560222650653953\n",
              "  9.671039126229665\n",
              "  9.772610821460296\n",
              "  9.879065698371564\n",
              "  9.946850640754889\n",
              " 10.002169546141578\n",
              " 10.061009359425011\n",
              " 10.115684195707905\n",
              " 10.182946497594184\n",
              " 10.249699157847772\n",
              " 10.331407709334023\n",
              " 10.424544495740134"
            ]
          }
        }
      ],
      "source": [
        "# The CSV is read into a DataFrame object, and we specify that it is comma delimited\n",
        "forcings_all_85 = CSV.read(\"data/ERF_ssp585_1750-2500.csv\", DataFrame, delim=\",\")\n",
        "\n",
        "# get the years corresponding to the forcings\n",
        "t = Int64.(forcings_all_85[!,\"year\"]) # Ensure that years are interpreted as integers\n",
        "# find the indices of the years 1880 and 2100\n",
        "# we can do this with the indexin function\n",
        "time_bounds = indexin([1880, 2100], t)\n",
        "years = time_bounds[1]:time_bounds[2] # create range of years\n",
        "\n",
        "# Separate out the individual components\n",
        "forcing_co2_85 = forcings_all_85[years,\"co2\"]\n",
        "# Get total aerosol and non-aerosol forcings\n",
        "forcing_aerosol_rad_85 = forcings_all_85[years,\"aerosol-radiation_interactions\"]\n",
        "forcing_aerosol_cloud_85 = forcings_all_85[years,\"aerosol-cloud_interactions\"]\n",
        "forcing_aerosol_85 = forcing_aerosol_rad_85 + forcing_aerosol_cloud_85 # aerosol forcings\n",
        "forcing_total_85 = forcings_all_85[years,\"total\"] \n",
        "forcing_non_aerosol_85 = forcing_total_85 - forcing_aerosol_85 # non-aerosol forcings"
      ],
      "id": "72e83ec6"
    },
    {
      "cell_type": "markdown",
      "metadata": {},
      "source": [
        "For this assignment, you can use the `forcing_aerosol_85` and\n",
        "`forcing_non_aerosol_85` vectors as is to correspond to the relevant\n",
        "forcings. You will need to use the vector `t` to find the appropriate\n",
        "years for analysis."
      ],
      "id": "bcf9e54e-c34d-47f3-93c0-a52299d41f7c"
    },
    {
      "cell_type": "markdown",
      "metadata": {},
      "source": [
        "#### Problem 1.1 (3 points)\n",
        "\n",
        "Assume that $S$ is distributed according to\n",
        "$\\text{LogNormal}(\\log(3.2), \\log{2}/3)$ (as in class). Draw 10,000\n",
        "samples from this distribution and make a histogram."
      ],
      "id": "3a59b7e3-46cb-4f74-a200-74520d446924"
    },
    {
      "cell_type": "markdown",
      "metadata": {},
      "source": [
        "#### Problem 1.2 (5 points)\n",
        "\n",
        "Use the EBM to propagate your samples of $S$ to a distribution of global\n",
        "mean temperature. Plot the median and 90% predictive distribution\n",
        "(between the .05 and .95 quantiles) from 1880-2100."
      ],
      "id": "d47e556e-eaa7-4729-8af6-7f67f66fcc20"
    },
    {
      "cell_type": "markdown",
      "metadata": {},
      "source": [
        "#### Problem 1.3 (4 points)\n",
        "\n",
        "Make a histogram of global mean temperature projections in 2100. If you\n",
        "compare this distribution to the distribution of $S$ from Problem 1.1,\n",
        "what do you observe?"
      ],
      "id": "48a20bbf-c64c-4f97-8aea-548b36334a48"
    },
    {
      "cell_type": "markdown",
      "metadata": {},
      "source": [
        "### Problem 2 (15 points)\n",
        "\n",
        "Changes to global temperatures cause changes in global sea levels\n",
        "through several mechanisms, including thermal expansion (the change in\n",
        "ocean volume due to increased heat content) and melting land-based ice.\n",
        "One simple way to represent this link is through the following model,\n",
        "proposed by [Rahmstorf (2007)](https://doi.org/10.1126/science.1135456).\n",
        "\n",
        "$$\\frac{dH}{dt} = a(T-T_0),$$\n",
        "\n",
        "where $H$ is the global mean sea level in mm, $T$ is global mean\n",
        "temperature, $T_0$ is an equilibrium temperature (where there is no\n",
        "change in sea levels), and $a$ is a proportionality constant. This model\n",
        "can be discretized to give $$H_{i+1} - H_i = a (T_i - T_0).$$\n",
        "\n",
        "Note that, like with global mean temperature, the notion of “global mean\n",
        "sea level” does not make sense in absolute terms (were sea levels ever\n",
        "at “zero”?). Instead, we want to normalize this relative to some\n",
        "historical baseline. In this case (with a view towards Problem 3), we\n",
        "will compute our sea levels relative to the 2010 sea level. Note that in\n",
        "addition to the model parameters, we also need an initial sea-level\n",
        "parameter $H_0$ which will give us the right anomaly level.\n",
        "\n",
        "The best estimates for these parameters are:\n",
        "\n",
        "-   $a = 1.86$;\n",
        "-   $H_0 = -223$;\n",
        "-   $T_0 = -0.62$"
      ],
      "id": "4edef012-c587-425f-9089-99ab048140d6"
    },
    {
      "cell_type": "markdown",
      "metadata": {},
      "source": [
        "#### Problem 2.1 (5 points)\n",
        "\n",
        "Write a function `sea_level_model()` to implement the mathematical\n",
        "sea-level rise model described above. It should take in needed\n",
        "parameters and a vector of temperatures and return a vector of sea\n",
        "levels. To test your function, use the provided temperature series\n",
        "`historical_temps` (read in below) to compute the global mean sea level\n",
        "anomaly in 2022 (the last year of the dataset) with the parameter values\n",
        "above; you should get a value of approximately 40mm."
      ],
      "id": "83bffda2-437d-449c-88af-56ff4e9e4a54"
    },
    {
      "cell_type": "code",
      "execution_count": 5,
      "metadata": {},
      "outputs": [
        {
          "output_type": "display_data",
          "metadata": {},
          "data": {
            "text/plain": [
              "143-element Vector{Float64}:\n",
              "  0.07297116761904765\n",
              "  0.15655772761904765\n",
              "  0.09327316761904769\n",
              "  0.04232884761904765\n",
              " -0.10351681238095234\n",
              " -0.08232033238095232\n",
              " -0.03210037238095231\n",
              " -0.10998251238095236\n",
              "  0.00942435761904764\n",
              "  0.13890768761904768\n",
              " -0.11805492238095233\n",
              " -0.012511692380952344\n",
              " -0.11875525238095236\n",
              "  ⋮\n",
              "  0.9265009776190476\n",
              "  0.9664103476190478\n",
              "  1.0123786476190477\n",
              "  1.0616748976190478\n",
              "  1.2139176176190476\n",
              "  1.3217303776190477\n",
              "  1.2339774976190476\n",
              "  1.1514572476190477\n",
              "  1.2798758476190477\n",
              "  1.3115970476190477\n",
              "  1.1506591476190478\n",
              "  1.1896871476190476"
            ]
          }
        }
      ],
      "source": [
        "historical_temp_data = CSV.read(\"data/HadCRUT.5.0.1.0.analysis.summary_series.global.annual.csv\", DataFrame, delim=\",\")\n",
        "# column 2 is the temperature anomaly, column 1 is the year\n",
        "temp_bds = indexin([1880, 1900], historical_temp_data[!, 1]) # find the index of 2010 for normalization\n",
        "historical_temp_data[:, 2] .-= mean(historical_temp_data[temp_bds[1]:temp_bds[2], 2])\n",
        "historical_temps = historical_temp_data[temp_bds[1]:end, 2]"
      ],
      "id": "d1699f9e"
    },
    {
      "cell_type": "markdown",
      "metadata": {},
      "source": [
        "#### Problem 2.2 (5 points)\n",
        "\n",
        "Evaluate `sea_level_model()` using the projected temperature ensemble\n",
        "from Problem 1. Plot the 90% projection interval of the sea levels."
      ],
      "id": "8a2784f3-7caf-4e22-afec-87a33cbd002e"
    },
    {
      "cell_type": "markdown",
      "metadata": {},
      "source": [
        "#### Problem 2.3 (5 points)\n",
        "\n",
        "Make a histogram of the sea-level anomaly in 2100. What can you observe\n",
        "about how the ECS uncertainty has impacted sea-level uncertainty under\n",
        "this radiative forcing scenario? What might the implications be of only\n",
        "using the best-estimate ECS value?"
      ],
      "id": "1dce17cd-bc0a-4243-b2c6-356aadce9ab9"
    },
    {
      "cell_type": "markdown",
      "metadata": {},
      "source": [
        "### Problem 3 (13 points)\n",
        "\n",
        "You’ve been asked to consult on a levee reliability analysis. For\n",
        "context, levees in the United States are supposed to only fail once in\n",
        "100 years, or, in other words, to have at most a 1% chance of failure in\n",
        "a given year. We will assume for this problem that the only way in which\n",
        "a levee fails is by being overtopped (note: this is unrealistic).\n",
        "\n",
        "We can assess the probability of levee overtopping by comparing its\n",
        "height to a distribution of extreme sea levels. A common approach is to\n",
        "look at the distribution of the highest sea level each year. These\n",
        "extreme sea levels can be obtained by combining the absolute sea level\n",
        "(we will use our distribution of global sea levels for this), the rate\n",
        "of subsidence (how much the ground sinks), and the distribution of storm\n",
        "tides (the highest tide level, which is often the result of storm surges\n",
        "combining with high tide).\n",
        "\n",
        "Assume for this problem that:\n",
        "\n",
        "1.  the annual rate of subsidence $\\nu$ is 1.2mm/yr;\n",
        "2.  the distribution of annual storm tide maxima, above the mean sea\n",
        "    level, is (and is expected to continue to be) given by a\n",
        "    $\\text{GeneralizedExtremeValue}(900, 25, 0.3)$ distribution, which\n",
        "    looks like this:"
      ],
      "id": "c406ebe8-dcbe-4c83-aa60-2ff8936f4a14"
    },
    {
      "cell_type": "code",
      "execution_count": 6,
      "metadata": {},
      "outputs": [
        {
          "output_type": "display_data",
          "metadata": {},
          "data": {
            "text/html": [
              "<img src=\"data:image/png;base64,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\" />"
            ]
          }
        }
      ],
      "source": [
        "tide_distribution = GeneralizedExtremeValue(900, 25, 0.3)\n",
        "    histogram(rand(tide_distribution, 10000), xlabel=\"Storm Tide Height (mm)\", ylabel=\"Count\", legend=:false)"
      ],
      "id": "cee28251"
    },
    {
      "cell_type": "markdown",
      "metadata": {},
      "source": [
        "Feel free to just sample from `tide_distribution` in your solution\n",
        "below."
      ],
      "id": "289f8305-401e-4740-a369-3bf87974d2d0"
    },
    {
      "cell_type": "markdown",
      "metadata": {},
      "source": [
        "#### Problem 3.1 (2 points)\n",
        "\n",
        "How would you use your sea-level simulations and the above information\n",
        "to compute a distribution of extreme sea levels in 2100 relative to 2010\n",
        "mean sea level? Write down the approach in clear steps, with equations\n",
        "as needed."
      ],
      "id": "d523bf7c-4d0d-499e-b70d-1cb6250c9170"
    },
    {
      "cell_type": "markdown",
      "metadata": {},
      "source": [
        "#### Problem 3.2 (3 points)\n",
        "\n",
        "Follow the steps above and produce a histogram of the extreme sea levels\n",
        "in 2100 relative to 2010."
      ],
      "id": "3cdc46a3-06db-428f-8dab-85937de998b6"
    },
    {
      "cell_type": "markdown",
      "metadata": {},
      "source": [
        "#### Problem 3.3 (5 points)\n",
        "\n",
        "The current levee was heightened in 2010 to 2m above the 2010 mean sea\n",
        "level. Based on your analysis above, what is the probability that the\n",
        "levee will be overtopped in 2100 (remember that the reliability standard\n",
        "is 1%)?"
      ],
      "id": "a8e0897c-340f-44a0-acf2-61f50296ee71"
    },
    {
      "cell_type": "markdown",
      "metadata": {},
      "source": [
        "#### Problem 3.4 (3 points)\n",
        "\n",
        "Based on your analysis, would you recommend that the levee be heightened\n",
        "again in the future, and if so, how high? What other information might\n",
        "you need, if any, to make your recommendation?"
      ],
      "id": "b12d3502-b3c6-4dd7-8776-92792a307e05"
    },
    {
      "cell_type": "markdown",
      "metadata": {},
      "source": [
        "## References\n",
        "\n",
        "List any external references consulted, including classmates."
      ],
      "id": "b8adc6ab-ae63-4baf-8320-7e6bd8843d81"
    }
  ],
  "nbformat": 4,
  "nbformat_minor": 5,
  "metadata": {
    "kernelspec": {
      "name": "julia-1.9",
      "display_name": "Julia 1.9.3",
      "language": "julia"
    },
    "language_info": {
      "name": "julia",
      "file_extension": ".jl",
      "mimetype": "application/julia",
      "version": "1.9.3"
    }
  }
}