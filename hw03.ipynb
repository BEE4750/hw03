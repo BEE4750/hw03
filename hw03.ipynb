{
  "cells": [
    {
      "cell_type": "markdown",
      "metadata": {},
      "source": [
        "# BEE 4750 Homework 3: Uncertain Sea-Level Rise and Levee Reliability\n",
        "\n",
        "**Name**:\n",
        "\n",
        "**ID**:\n",
        "\n",
        "> **Due Date**\n",
        ">\n",
        "> Friday, 10/06/23, 9:00pm\n",
        "\n",
        "## Overview\n",
        "\n",
        "### Instructions\n",
        "\n",
        "This assignment asks you to conduct a Monte Carlo analysis of levee\n",
        "reliability in the face of uncertain changes to local sea levels. You\n",
        "will propagate uncertainty in equilibrium climate sensitivity through\n",
        "the energy balance model to obtain a distribution of temperatures, which\n",
        "will then drive a model of sea-level rise. You will finally use this\n",
        "distribution to assess the probability that a planned levee will achieve\n",
        "its desired reliability standard.\n",
        "\n",
        "### Load Environment\n",
        "\n",
        "The following code loads the environment and makes sure all needed\n",
        "packages are installed. This should be at the start of most Julia\n",
        "scripts."
      ],
      "id": "40906466-61ee-44f9-9c81-fbcb604092f0"
    },
    {
      "cell_type": "code",
      "execution_count": 1,
      "metadata": {},
      "outputs": [],
      "source": [
        "import Pkg\n",
        "Pkg.activate(@__DIR__)\n",
        "Pkg.instantiate()"
      ],
      "id": "217587a2"
    },
    {
      "cell_type": "code",
      "execution_count": 2,
      "metadata": {},
      "outputs": [],
      "source": [
        "using Random\n",
        "using Plots\n",
        "using LaTeXStrings\n",
        "using Distributions\n",
        "using CSV\n",
        "using DataFrames"
      ],
      "id": "5983e5b6"
    },
    {
      "cell_type": "markdown",
      "metadata": {},
      "source": [
        "## Problems (Total: 40 Points)"
      ],
      "id": "e2a42659-c332-4c5f-a100-71461472c251"
    },
    {
      "cell_type": "markdown",
      "metadata": {},
      "source": [
        "### Problem 1 (12 points)\n",
        "\n",
        "Recall from class that the simple energy balance model (EBM) of\n",
        "planetary energy balance links changes in radiative forcing ($F$) to\n",
        "global mean temperature ($T$) changes through the discretized equation\n",
        "$$T_{i+1} = T_{i} + \\frac{F_i - \\lambda T_i}{cd} \\times \\Delta t,$$\n",
        "where $i$ is the current time step, $c = 4.184 \\times 10^6$\n",
        "J/K/m<sup>2</sup> is the heat capacity of water per unit area, $d$ is\n",
        "the (uncertain) depth of the mixing layer, $\\Delta t$ is the annual time\n",
        "step in seconds and $\\lambda = F_{\\text{2xCO}_2}/S$ is the climate\n",
        "feedback parameter in W/m<sup>2</sup>/$^\\circ$ C, where $S$ is the\n",
        "equilibrium climate sensitivity (the uncertain equilibrium temperature\n",
        "change resulting from a doubling of atmospheric CO<sub>2</sub>).\n",
        "Finally, while total radiative forcing can be the result of non-aerosol\n",
        "and aerosol effects, we do not know the relative intensity of aerosol\n",
        "forcing, so we represent this with an uncertain aerosol scaling factor\n",
        "$\\alpha$.\n",
        "\n",
        "We can implement this model with the following Julia function. We will\n",
        "assume an ocean mixing depth $d = 100$ m and an aerosol scaling factor\n",
        "$\\alpha = 1.3$ so we can focus on the uncertainty in $S$.\n",
        "\n",
        "The last technical concern is that “global mean temperature” does not\n",
        "make sense in absolute terms as a marker of climate change. Instead, we\n",
        "typically refer to temperature changes relative to some historical\n",
        "pre-industrial baseline. In this case, we will use the period from\n",
        "1880-1900, though this choice can vary."
      ],
      "id": "be018462-69c6-483e-9ca8-38b70c3ad574"
    },
    {
      "cell_type": "code",
      "execution_count": 3,
      "metadata": {},
      "outputs": [
        {
          "output_type": "display_data",
          "metadata": {},
          "data": {
            "text/plain": [
              "energy_balance_model (generic function with 1 method)"
            ]
          }
        }
      ],
      "source": [
        "# we need to split up the aerosol and non-aerosol forcings when we call the function\n",
        "function energy_balance_model(S, forcing_aerosol, forcing_non_aerosol)\n",
        "    d = 100 # ocean mixing depth [m]\n",
        "    α = 1.3 # aerosol scaling factor\n",
        "    F2xCO₂ = 4.0 # radiative forcing [W/m²] for a doubling of CO₂\n",
        "    λ = F2xCO₂/S\n",
        "    \n",
        "    c = 4.184e6 # heat capacity/area [J/K/m²]\n",
        "    C = c*d # heat capacity of mixed layer (per area)\n",
        "\n",
        "    F = forcing_non_aerosol + α*forcing_aerosol # radiative forcing\n",
        "\n",
        "    Δt = 31558152.0 # annual timestep [s]\n",
        "    \n",
        "    T = zero(F)\n",
        "    for i in 1:length(F)-1\n",
        "        T[i+1] = T[i] + (F[i] - λ*T[i])/C * Δt\n",
        "    end\n",
        "    # return temperature anomaly relative to 1880-1900 baseline\n",
        "    return T .- mean(T[1:21]) \n",
        "end"
      ],
      "id": "449950ec"
    },
    {
      "cell_type": "markdown",
      "metadata": {},
      "source": [
        "Finally, we need to load some radiative forcing data. We will use the\n",
        "radiative forcing scenario RCP 8.5. We can load this data, which is in a\n",
        "`.csv` (comma-delimited) file, into a `DataFrame`, which is a tabular\n",
        "data structure. Rows and columns in a `DataFrame` can be accessed using\n",
        "their numerical index (like a matrix), but columns also have names; you\n",
        "can access a particular column in a dataframe `df` by name using\n",
        "`df.colname` or `df[:, \"colname\"]`.\n",
        "\n",
        "Of note: this data set goes from 1750–2500, so you will need to take\n",
        "care to make sure you are using the right years at each step. For\n",
        "example, here we will constrain the data to 1880–2100, which is the\n",
        "period we are interested in."
      ],
      "id": "6b81816c-0bd3-4577-b802-4b030f13bcd5"
    },
    {
      "cell_type": "code",
      "execution_count": 4,
      "metadata": {},
      "outputs": [
        {
          "output_type": "display_data",
          "metadata": {},
          "data": {
            "text/plain": [
              "221-element Vector{Float64}:\n",
              "  0.42741479112315905\n",
              "  0.4487940147601447\n",
              "  0.4900144276528058\n",
              " -0.019811270078689047\n",
              " -1.480725700367619\n",
              " -0.3154905163510021\n",
              "  0.233186559774844\n",
              "  0.2923308952663089\n",
              "  0.45833872365810924\n",
              "  0.5168189581089915\n",
              "  0.4144761329626494\n",
              "  0.2762327724171124\n",
              "  0.48656957869238376\n",
              "  ⋮\n",
              "  9.560222650653953\n",
              "  9.671039126229665\n",
              "  9.772610821460296\n",
              "  9.879065698371564\n",
              "  9.946850640754889\n",
              " 10.002169546141578\n",
              " 10.061009359425011\n",
              " 10.115684195707905\n",
              " 10.182946497594184\n",
              " 10.249699157847772\n",
              " 10.331407709334023\n",
              " 10.424544495740134"
            ]
          }
        }
      ],
      "source": [
        "# The CSV is read into a DataFrame object, and we specify that it is comma delimited\n",
        "forcings_all_85 = CSV.read(\"data/ERF_ssp585_1750-2500.csv\", DataFrame, delim=\",\")\n",
        "\n",
        "# get the years corresponding to the forcings\n",
        "t = Int64.(forcings_all_85[!,\"year\"]) # Ensure that years are interpreted as integers\n",
        "# find the indices of the years 1880 and 2100\n",
        "# we can do this with the indexin function\n",
        "time_bounds = indexin([1880, 2100], t)\n",
        "years = time_bounds[1]:time_bounds[2] # create range of years\n",
        "\n",
        "# Separate out the individual components\n",
        "forcing_co2_85 = forcings_all_85[years,\"co2\"]\n",
        "# Get total aerosol and non-aerosol forcings\n",
        "forcing_aerosol_rad_85 = forcings_all_85[years,\"aerosol-radiation_interactions\"]\n",
        "forcing_aerosol_cloud_85 = forcings_all_85[years,\"aerosol-cloud_interactions\"]\n",
        "forcing_aerosol_85 = forcing_aerosol_rad_85 + forcing_aerosol_cloud_85 # aerosol forcings\n",
        "forcing_total_85 = forcings_all_85[years,\"total\"] \n",
        "forcing_non_aerosol_85 = forcing_total_85 - forcing_aerosol_85 # non-aerosol forcings"
      ],
      "id": "80c4ab89"
    },
    {
      "cell_type": "markdown",
      "metadata": {},
      "source": [
        "For this assignment, you can use the `forcing_aerosol_85` and\n",
        "`forcing_non_aerosol_85` vectors as is to correspond to the relevant\n",
        "forcings. You will need to use the vector `t` to find the appropriate\n",
        "years for analysis."
      ],
      "id": "bf320cea-43a2-4807-a94d-a9fe18cd2de0"
    },
    {
      "cell_type": "markdown",
      "metadata": {},
      "source": [
        "#### Problem 1.1 (3 points)\n",
        "\n",
        "Assume that $S$ is distributed according to\n",
        "$\\text{LogNormal}(\\log(3.2), \\log{2}/3)$ (as in class). Draw 10,000\n",
        "samples from this distribution and make a histogram."
      ],
      "id": "4df91243-61ea-4620-8611-54f6001d472d"
    },
    {
      "cell_type": "markdown",
      "metadata": {},
      "source": [
        "#### Problem 1.2 (5 points)\n",
        "\n",
        "Use the EBM to propagate your samples of $S$ to a distribution of global\n",
        "mean temperature. Plot the median and 90% predictive distribution\n",
        "(between the .05 and .95 quantiles) from 1880-2100."
      ],
      "id": "281d40e0-5c50-41de-806f-b3faa6cf7cc5"
    },
    {
      "cell_type": "markdown",
      "metadata": {},
      "source": [
        "#### Problem 1.3 (4 points)\n",
        "\n",
        "Make a histogram of global mean temperature projections in 2100. If you\n",
        "compare this distribution to the distribution of $S$ from Problem 1.1,\n",
        "what do you observe?"
      ],
      "id": "5eee64cc-314f-4dfa-8636-7953a0174879"
    },
    {
      "cell_type": "markdown",
      "metadata": {},
      "source": [
        "### Problem 2 (15 points)\n",
        "\n",
        "Changes to global temperatures cause changes in global sea levels\n",
        "through several mechanisms, including thermal expansion (the change in\n",
        "ocean volume due to increased heat content) and melting land-based ice.\n",
        "One simple way to represent this link is through the following model,\n",
        "proposed by [Rahmstorf (2007)](https://doi.org/10.1126/science.1135456).\n",
        "\n",
        "$$\\frac{dH}{dt} = a(T-T_0),$$\n",
        "\n",
        "where $H$ is the global mean sea level in mm, $T$ is global mean\n",
        "temperature, $T_0$ is an equilibrium temperature (where there is no\n",
        "change in sea levels), and $a$ is a proportionality constant. This model\n",
        "can be discretized to give $$H_{i+1} - H_i = a (T_i - T_0).$$\n",
        "\n",
        "Note that, like with global mean temperature, the notion of “global mean\n",
        "sea level” does not make sense in absolute terms (were sea levels ever\n",
        "at “zero”?). Instead, we want to normalize this relative to some\n",
        "historical baseline. In this case (with a view towards Problem 3), we\n",
        "will compute our sea levels relative to the 2010 sea level. Note that in\n",
        "addition to the model parameters, we also need an initial sea-level\n",
        "parameter $H_0$ which will give us the right anomaly level.\n",
        "\n",
        "The best estimates for these parameters are:\n",
        "\n",
        "-   $a = 1.86$;\n",
        "-   $H_0 = -223$;\n",
        "-   $T_0 = -0.62$"
      ],
      "id": "6673067d-8589-4dc7-86d9-adf2e25e8507"
    },
    {
      "cell_type": "markdown",
      "metadata": {},
      "source": [
        "#### Problem 2.1 (5 points)\n",
        "\n",
        "Write a function `sea_level_model()` to implement the mathematical\n",
        "sea-level rise model described above. It should take in needed\n",
        "parameters and a vector of temperatures and return a vector of sea\n",
        "levels. To test your function, use the provided temperature series\n",
        "`historical_temps` (read in below) to compute the global mean sea level\n",
        "anomaly in 2022 (the last year of the dataset) with the parameter values\n",
        "above; you should get a value of approximately 43mm."
      ],
      "id": "3e53890b-d4c9-48de-b7f5-3a087bf0ab69"
    },
    {
      "cell_type": "code",
      "execution_count": 5,
      "metadata": {},
      "outputs": [
        {
          "output_type": "display_data",
          "metadata": {},
          "data": {
            "text/plain": [
              "143-element Vector{Float64}:\n",
              "  0.07297116761904765\n",
              "  0.15655772761904765\n",
              "  0.09327316761904769\n",
              "  0.04232884761904765\n",
              " -0.10351681238095234\n",
              " -0.08232033238095232\n",
              " -0.03210037238095231\n",
              " -0.10998251238095236\n",
              "  0.00942435761904764\n",
              "  0.13890768761904768\n",
              " -0.11805492238095233\n",
              " -0.012511692380952344\n",
              " -0.11875525238095236\n",
              "  ⋮\n",
              "  0.9265009776190476\n",
              "  0.9664103476190478\n",
              "  1.0123786476190477\n",
              "  1.0616748976190478\n",
              "  1.2139176176190476\n",
              "  1.3217303776190477\n",
              "  1.2339774976190476\n",
              "  1.1514572476190477\n",
              "  1.2798758476190477\n",
              "  1.3115970476190477\n",
              "  1.1506591476190478\n",
              "  1.1896871476190476"
            ]
          }
        }
      ],
      "source": [
        "historical_temp_data = CSV.read(\"data/HadCRUT.5.0.1.0.analysis.summary_series.global.annual.csv\", DataFrame, delim=\",\")\n",
        "# column 2 is the temperature anomaly, column 1 is the year\n",
        "temp_bds = indexin([1880, 1900], historical_temp_data[!, 1]) # find the index of 2010 for normalization\n",
        "historical_temp_data[:, 2] .-= mean(historical_temp_data[temp_bds[1]:temp_bds[2], 2])\n",
        "historical_temps = historical_temp_data[temp_bds[1]:end, 2]"
      ],
      "id": "0873ecca"
    },
    {
      "cell_type": "markdown",
      "metadata": {},
      "source": [
        "#### Problem 2.2 (5 points)\n",
        "\n",
        "Evaluate `sea_level_model()` using the projected temperature ensemble\n",
        "from Problem 1. Plot the 90% projection interval of the sea levels."
      ],
      "id": "6b575584-39c2-4c61-8857-f4ae8903d471"
    },
    {
      "cell_type": "markdown",
      "metadata": {},
      "source": [
        "#### Problem 2.3 (5 points)\n",
        "\n",
        "Make a histogram of the sea-level anomaly in 2100. What can you observe\n",
        "about how the ECS uncertainty has impacted sea-level uncertainty under\n",
        "this radiative forcing scenario? What might the implications be of only\n",
        "using the best-estimate ECS value?"
      ],
      "id": "f56ac29c-dd79-40e4-bf18-448569666b39"
    },
    {
      "cell_type": "markdown",
      "metadata": {},
      "source": [
        "### Problem 3 (13 points)\n",
        "\n",
        "You’ve been asked to consult on a levee reliability analysis. For\n",
        "context, levees in the United States are supposed to only fail once in\n",
        "100 years, or, in other words, to have at most a 1% chance of failure in\n",
        "a given year. We will assume for this problem that the only way in which\n",
        "a levee fails is by being overtopped (note: this is unrealistic).\n",
        "\n",
        "We can assess the probability of levee overtopping by comparing its\n",
        "height to a distribution of extreme sea levels. A common approach is to\n",
        "look at the distribution of the highest sea level each year. These\n",
        "extreme sea levels can be obtained by combining the absolute sea level\n",
        "(we will use our distribution of global sea levels for this), the rate\n",
        "of subsidence (how much the ground sinks), and the distribution of storm\n",
        "tides (the highest tide level, which is often the result of storm surges\n",
        "combining with high tide).\n",
        "\n",
        "Assume for this problem that:\n",
        "\n",
        "1.  the annual rate of subsidence $\\nu$ is 1.2mm/yr;\n",
        "2.  the distribution of annual storm tide maxima, above the mean sea\n",
        "    level, is (and is expected to continue to be) given by a\n",
        "    $\\text{GeneralizedExtremeValue}(900, 25, 0.3)$ distribution, which\n",
        "    looks like this:"
      ],
      "id": "3555492f-8b2c-4798-9ec4-73a9f7a91102"
    },
    {
      "cell_type": "code",
      "execution_count": 6,
      "metadata": {},
      "outputs": [
        {
          "output_type": "display_data",
          "metadata": {},
          "data": {
            "text/html": [
              "<img src=\"data:image/png;base64,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\" />"
            ]
          }
        }
      ],
      "source": [
        "tide_distribution = GeneralizedExtremeValue(900, 25, 0.3)\n",
        "    histogram(rand(tide_distribution, 10000), xlabel=\"Storm Tide Height (mm)\", ylabel=\"Count\", legend=:false)"
      ],
      "id": "4f6b3f43"
    },
    {
      "cell_type": "markdown",
      "metadata": {},
      "source": [
        "Feel free to just sample from `tide_distribution` in your solution\n",
        "below."
      ],
      "id": "556f7bc4-7ae8-46f7-a82e-ea8a359cfbf4"
    },
    {
      "cell_type": "markdown",
      "metadata": {},
      "source": [
        "#### Problem 3.1 (2 points)\n",
        "\n",
        "How would you use your sea-level simulations and the above information\n",
        "to compute a distribution of extreme sea levels in 2100 relative to 2010\n",
        "mean sea level? Write down the approach in clear steps, with equations\n",
        "as needed."
      ],
      "id": "b21f42cb-9220-4ce8-908f-f6934251c52f"
    },
    {
      "cell_type": "markdown",
      "metadata": {},
      "source": [
        "#### Problem 3.2 (3 points)\n",
        "\n",
        "Follow the steps above and produce a histogram of the extreme sea levels\n",
        "in 2100 relative to 2010."
      ],
      "id": "a80c9bc6-93b4-4702-a96e-60f60f38d4fe"
    },
    {
      "cell_type": "markdown",
      "metadata": {},
      "source": [
        "#### Problem 3.2 (3 points)\n",
        "\n",
        "Follow the steps above and produce a histogram of the extreme sea levels\n",
        "in 2100 relative to 2010."
      ],
      "id": "7e262cca-5fad-455f-a4a5-63133a366009"
    },
    {
      "cell_type": "markdown",
      "metadata": {},
      "source": [
        "#### Problem 3.4 (3 points)\n",
        "\n",
        "Based on your analysis, would you recommend that the levee be heightened\n",
        "again in the future, and if so, how high? What other information might\n",
        "you need, if any, to make your recommendation?"
      ],
      "id": "5e37ec00-b6c8-44c8-979c-86bb20476b0d"
    },
    {
      "cell_type": "markdown",
      "metadata": {},
      "source": [
        "## References\n",
        "\n",
        "List any external references consulted, including classmates."
      ],
      "id": "da31bad8-e17e-4bcf-98ca-8f21e10a7406"
    }
  ],
  "nbformat": 4,
  "nbformat_minor": 5,
  "metadata": {
    "kernelspec": {
      "name": "julia-1.9",
      "display_name": "Julia 1.9.3",
      "language": "julia"
    },
    "language_info": {
      "name": "julia",
      "file_extension": ".jl",
      "mimetype": "application/julia",
      "version": "1.9.3"
    }
  }
}