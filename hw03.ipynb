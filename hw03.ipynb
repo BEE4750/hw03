{
  "cells": [
    {
      "cell_type": "markdown",
      "metadata": {},
      "source": [
        "# BEE 4750 Homework 3: Uncertain Sea-Level Rise and Levee Reliability\n",
        "\n",
        "**Name**:\n",
        "\n",
        "**ID**:\n",
        "\n",
        "> **Due Date**\n",
        ">\n",
        "> Friday, 10/06/23, 9:00pm\n",
        "\n",
        "## Overview\n",
        "\n",
        "### Instructions\n",
        "\n",
        "This assignment asks you to conduct a Monte Carlo analysis of levee\n",
        "reliability in the face of uncertain changes to local sea levels. You\n",
        "will propagate uncertainty in equilibrium climate sensitivity through\n",
        "the energy balance model to obtain a distribution of temperatures, which\n",
        "will then drive a model of sea-level rise. You will finally use this\n",
        "distribution to assess the probability that a planned levee will achieve\n",
        "its desired reliability standard.\n",
        "\n",
        "### Load Environment\n",
        "\n",
        "The following code loads the environment and makes sure all needed\n",
        "packages are installed. This should be at the start of most Julia\n",
        "scripts."
      ],
      "id": "06765287-dd62-409f-ab08-b47e49df9e7e"
    },
    {
      "cell_type": "code",
      "execution_count": 1,
      "metadata": {},
      "outputs": [],
      "source": [
        "import Pkg\n",
        "Pkg.activate(@__DIR__)\n",
        "Pkg.instantiate()"
      ],
      "id": "3309c47d"
    },
    {
      "cell_type": "code",
      "execution_count": 2,
      "metadata": {},
      "outputs": [],
      "source": [
        "using Random\n",
        "using Plots\n",
        "using LaTeXStrings\n",
        "using Distributions\n",
        "using CSV\n",
        "using DataFrames"
      ],
      "id": "7c9d6f3e"
    },
    {
      "cell_type": "markdown",
      "metadata": {},
      "source": [
        "## Problems (Total: 40 Points)"
      ],
      "id": "3f21693d-c244-44ba-9a8b-4d5dd10ce766"
    },
    {
      "cell_type": "markdown",
      "metadata": {},
      "source": [
        "### Problem 1 (12 points)\n",
        "\n",
        "Recall from class that the simple energy balance model (EBM) of\n",
        "planetary energy balance links changes in radiative forcing ($F$) to\n",
        "global mean temperature ($T$) changes through the discretized equation\n",
        "$$T_{i+1} = T_{i} + \\frac{F_i - \\lambda T_i}{cd} \\times \\Delta t,$$\n",
        "where $i$ is the current time step, $c = 4.184 \\times 10^6$\n",
        "J/K/m<sup>2</sup> is the heat capacity of water per unit area, $d$ is\n",
        "the (uncertain) depth of the mixing layer, $\\Delta t$ is the annual time\n",
        "step in seconds and $\\lambda = F_{\\text{2xCO}_2}/S$ is the climate\n",
        "feedback parameter in W/m<sup>2</sup>/$^\\circ$ C, where $S$ is the\n",
        "equilibrium climate sensitivity (the uncertain equilibrium temperature\n",
        "change resulting from a doubling of atmospheric CO<sub>2</sub>).\n",
        "Finally, while total radiative forcing can be the result of non-aerosol\n",
        "and aerosol effects, we do not know the relative intensity of aerosol\n",
        "forcing, so we represent this with an uncertain aerosol scaling factor\n",
        "$\\alpha$.\n",
        "\n",
        "We can implement this model with the following Julia function. We will\n",
        "assume an ocean mixing depth $d = 100$ m and an aerosol scaling factor\n",
        "$\\alpha = 1.3$ so we can focus on the uncertainty in $S$.\n",
        "\n",
        "The last technical concern is that “global mean temperature” does not\n",
        "make sense in absolute terms as a marker of climate change. Instead, we\n",
        "typically refer to temperature changes relative to some historical\n",
        "pre-industrial baseline. In this case, we will use the period from\n",
        "1880-1900, though this choice can vary."
      ],
      "id": "ddcac8cf-2982-4510-ae84-1e1c08d6acdc"
    },
    {
      "cell_type": "code",
      "execution_count": 3,
      "metadata": {},
      "outputs": [
        {
          "output_type": "display_data",
          "metadata": {},
          "data": {
            "text/plain": [
              "energy_balance_model (generic function with 1 method)"
            ]
          }
        }
      ],
      "source": [
        "# we need to split up the aerosol and non-aerosol forcings when we call the function\n",
        "function energy_balance_model(S, forcing_aerosol, forcing_non_aerosol)\n",
        "    d = 100 # ocean mixing depth [m]\n",
        "    α = 1.3 # aerosol scaling factor\n",
        "    F2xCO₂ = 4.0 # radiative forcing [W/m²] for a doubling of CO₂\n",
        "    λ = F2xCO₂/S\n",
        "    \n",
        "    c = 4.184e6 # heat capacity/area [J/K/m²]\n",
        "    C = c*d # heat capacity of mixed layer (per area)\n",
        "\n",
        "    F = forcing_non_aerosol + α*forcing_aerosol # radiative forcing\n",
        "\n",
        "    Δt = 31558152.0 # annual timestep [s]\n",
        "    \n",
        "    T = zero(F)\n",
        "    for i in 1:length(F)-1\n",
        "        T[i+1] = T[i] + (F[i] - λ*T[i])/C * Δt\n",
        "    end\n",
        "    # return temperature anomaly relative to 1880-1900 baseline\n",
        "    return T .- mean(T[1:21]) \n",
        "end"
      ],
      "id": "001b748b"
    },
    {
      "cell_type": "markdown",
      "metadata": {},
      "source": [
        "Finally, we need to load some radiative forcing data. We will use the\n",
        "radiative forcing scenario RCP 8.5. We can load this data, which is in a\n",
        "`.csv` (comma-delimited) file, into a `DataFrame`, which is a tabular\n",
        "data structure. Rows and columns in a `DataFrame` can be accessed using\n",
        "their numerical index (like a matrix), but columns also have names; you\n",
        "can access a particular column in a dataframe `df` by name using\n",
        "`df.colname` or `df[:, \"colname\"]`.\n",
        "\n",
        "Of note: this data set goes from 1750–2500, so you will need to take\n",
        "care to make sure you are using the right years at each step. For\n",
        "example, here we will constrain the data to 1880–2100, which is the\n",
        "period we are interested in."
      ],
      "id": "38128fe6-f1ed-4216-8071-3bde8db16d38"
    },
    {
      "cell_type": "code",
      "execution_count": 4,
      "metadata": {},
      "outputs": [
        {
          "output_type": "display_data",
          "metadata": {},
          "data": {
            "text/plain": [
              "221-element Vector{Float64}:\n",
              "  0.42741479112315905\n",
              "  0.4487940147601447\n",
              "  0.4900144276528058\n",
              " -0.019811270078689047\n",
              " -1.480725700367619\n",
              " -0.3154905163510021\n",
              "  0.233186559774844\n",
              "  0.2923308952663089\n",
              "  0.45833872365810924\n",
              "  0.5168189581089915\n",
              "  0.4144761329626494\n",
              "  0.2762327724171124\n",
              "  0.48656957869238376\n",
              "  ⋮\n",
              "  9.560222650653953\n",
              "  9.671039126229665\n",
              "  9.772610821460296\n",
              "  9.879065698371564\n",
              "  9.946850640754889\n",
              " 10.002169546141578\n",
              " 10.061009359425011\n",
              " 10.115684195707905\n",
              " 10.182946497594184\n",
              " 10.249699157847772\n",
              " 10.331407709334023\n",
              " 10.424544495740134"
            ]
          }
        }
      ],
      "source": [
        "# The CSV is read into a DataFrame object, and we specify that it is comma delimited\n",
        "forcings_all_85 = CSV.read(\"data/ERF_ssp585_1750-2500.csv\", DataFrame, delim=\",\")\n",
        "\n",
        "# get the years corresponding to the forcings\n",
        "t = Int64.(forcings_all_85[!,\"year\"]) # Ensure that years are interpreted as integers\n",
        "# find the indices of the years 1880 and 2100\n",
        "# we can do this with the indexin function\n",
        "time_bounds = indexin([1880, 2100], t)\n",
        "years = time_bounds[1]:time_bounds[2] # create range of years\n",
        "\n",
        "# Separate out the individual components\n",
        "forcing_co2_85 = forcings_all_85[years,\"co2\"]\n",
        "# Get total aerosol and non-aerosol forcings\n",
        "forcing_aerosol_rad_85 = forcings_all_85[years,\"aerosol-radiation_interactions\"]\n",
        "forcing_aerosol_cloud_85 = forcings_all_85[years,\"aerosol-cloud_interactions\"]\n",
        "forcing_aerosol_85 = forcing_aerosol_rad_85 + forcing_aerosol_cloud_85 # aerosol forcings\n",
        "forcing_total_85 = forcings_all_85[years,\"total\"] \n",
        "forcing_non_aerosol_85 = forcing_total_85 - forcing_aerosol_85 # non-aerosol forcings"
      ],
      "id": "3040bea2"
    },
    {
      "cell_type": "markdown",
      "metadata": {},
      "source": [
        "For this assignment, you can use the `forcing_aerosol_85` and\n",
        "`forcing_non_aerosol_85` vectors as is to correspond to the relevant\n",
        "forcings. You will need to use the vector `t` to find the appropriate\n",
        "years for analysis."
      ],
      "id": "f67fc2ba-71a1-4c2d-81e6-51c38a5b85e5"
    },
    {
      "cell_type": "markdown",
      "metadata": {},
      "source": [
        "#### Problem 1.1 (3 points)\n",
        "\n",
        "Assume that $S$ is distributed according to\n",
        "$\\text{LogNormal}(\\log(3.2), \\log{2}/3)$ (as in class). Draw 10,000\n",
        "samples from this distribution and make a histogram."
      ],
      "id": "2f2e13a0-5019-43a3-8cbc-77b2f1a2b0dd"
    },
    {
      "cell_type": "markdown",
      "metadata": {},
      "source": [
        "#### Problem 1.2 (5 points)\n",
        "\n",
        "Use the EBM to propagate your samples of $S$ to a distribution of global\n",
        "mean temperature. Plot the median and 90% predictive distribution\n",
        "(between the .05 and .95 quantiles) from 1880-2100."
      ],
      "id": "19ab7238-8a27-4bed-8f1b-cc289c9f69b8"
    },
    {
      "cell_type": "markdown",
      "metadata": {},
      "source": [
        "#### Problem 1.3 (4 points)\n",
        "\n",
        "Make a histogram of global mean temperature projections in 2100. If you\n",
        "compare this distribution to the distribution of $S$ from Problem 1.1,\n",
        "what do you observe?"
      ],
      "id": "66c3df30-af5c-47ff-8a4d-6463ec67b79d"
    },
    {
      "cell_type": "markdown",
      "metadata": {},
      "source": [
        "### Problem 2 (15 points)\n",
        "\n",
        "Changes to global temperatures cause changes in global sea levels\n",
        "through several mechanisms, including thermal expansion (the change in\n",
        "ocean volume due to increased heat content) and melting land-based ice.\n",
        "One simple way to represent this link is through the following model,\n",
        "proposed by [Rahmstorf (2007)](https://doi.org/10.1126/science.1135456).\n",
        "\n",
        "$$\\frac{dH}{dt} = a(T-T_0),$$\n",
        "\n",
        "where $H$ is the global mean sea level in mm, $T$ is global mean\n",
        "temperature, $T_0$ is an equilibrium temperature (where there is no\n",
        "change in sea levels), and $a$ is a proportionality constant. This model\n",
        "can be discretized to give $$H_{i+1} - H_i = a (T_i - T_0).$$\n",
        "\n",
        "Note that, like with global mean temperature, the notion of “global mean\n",
        "sea level” does not make sense in absolute terms (were sea levels ever\n",
        "at “zero”?). Instead, we want to normalize this relative to some\n",
        "historical baseline. In this case (with a view towards Problem 3), we\n",
        "will compute our sea levels relative to the 2010 sea level. Note that in\n",
        "addition to the model parameters, we also need an initial sea-level\n",
        "parameter $H_0$ which will give us the right anomaly level.\n",
        "\n",
        "The best estimates for these parameters are:\n",
        "\n",
        "-   $a = 1.86$;\n",
        "-   $H_0 = -223$;\n",
        "-   $T_0 = -0.62$"
      ],
      "id": "4993f7d6-554a-4395-98e3-7edbc59145ab"
    },
    {
      "cell_type": "markdown",
      "metadata": {},
      "source": [
        "#### Problem 2.1 (5 points)\n",
        "\n",
        "Write a function `sea_level_model()` to implement the mathematical\n",
        "sea-level rise model described above. It should take in needed\n",
        "parameters and a vector of temperatures and return a vector of sea\n",
        "levels. To test your function, use the provided temperature series\n",
        "`historical_temps` (read in below) to compute the global mean sea level\n",
        "anomaly in 2022 (the last year of the dataset) with the parameter values\n",
        "above; you should get a value of approximately 43mm."
      ],
      "id": "5f41ce14-8f11-46f6-8e20-9018d71f9ccb"
    },
    {
      "cell_type": "code",
      "execution_count": 5,
      "metadata": {},
      "outputs": [
        {
          "output_type": "display_data",
          "metadata": {},
          "data": {
            "text/plain": [
              "143-element Vector{Float64}:\n",
              "  0.07297116761904765\n",
              "  0.15655772761904765\n",
              "  0.09327316761904769\n",
              "  0.04232884761904765\n",
              " -0.10351681238095234\n",
              " -0.08232033238095232\n",
              " -0.03210037238095231\n",
              " -0.10998251238095236\n",
              "  0.00942435761904764\n",
              "  0.13890768761904768\n",
              " -0.11805492238095233\n",
              " -0.012511692380952344\n",
              " -0.11875525238095236\n",
              "  ⋮\n",
              "  0.9265009776190476\n",
              "  0.9664103476190478\n",
              "  1.0123786476190477\n",
              "  1.0616748976190478\n",
              "  1.2139176176190476\n",
              "  1.3217303776190477\n",
              "  1.2339774976190476\n",
              "  1.1514572476190477\n",
              "  1.2798758476190477\n",
              "  1.3115970476190477\n",
              "  1.1506591476190478\n",
              "  1.1896871476190476"
            ]
          }
        }
      ],
      "source": [
        "historical_temp_data = CSV.read(\"data/HadCRUT.5.0.1.0.analysis.summary_series.global.annual.csv\", DataFrame, delim=\",\")\n",
        "# column 2 is the temperature anomaly, column 1 is the year\n",
        "temp_bds = indexin([1880, 1900], historical_temp_data[!, 1]) # find the index of 2010 for normalization\n",
        "historical_temp_data[:, 2] .-= mean(historical_temp_data[temp_bds[1]:temp_bds[2], 2])\n",
        "historical_temps = historical_temp_data[temp_bds[1]:end, 2]"
      ],
      "id": "4ccb1684"
    },
    {
      "cell_type": "markdown",
      "metadata": {},
      "source": [
        "#### Problem 2.2 (5 points)\n",
        "\n",
        "Evaluate `sea_level_model()` using the projected temperature ensemble\n",
        "from Problem 1. Plot the 90% projection interval of the sea levels."
      ],
      "id": "f33fbcfb-530c-4749-ad7a-f27e8aac7581"
    },
    {
      "cell_type": "markdown",
      "metadata": {},
      "source": [
        "#### Problem 2.3 (5 points)\n",
        "\n",
        "Make a histogram of the sea-level anomaly in 2100. What can you observe\n",
        "about how the ECS uncertainty has impacted sea-level uncertainty under\n",
        "this radiative forcing scenario? What might the implications be of only\n",
        "using the best-estimate ECS value?"
      ],
      "id": "417873ea-6407-49d3-99e6-e4d9dc575aae"
    },
    {
      "cell_type": "markdown",
      "metadata": {},
      "source": [
        "### Problem 3 (13 points)\n",
        "\n",
        "You’ve been asked to consult on a levee reliability analysis. For\n",
        "context, levees in the United States are supposed to only fail once in\n",
        "100 years, or, in other words, to have at most a 1% chance of failure in\n",
        "a given year. We will assume for this problem that the only way in which\n",
        "a levee fails is by being overtopped (note: this is unrealistic).\n",
        "\n",
        "We can assess the probability of levee overtopping by comparing its\n",
        "height to a distribution of extreme sea levels. A common approach is to\n",
        "look at the distribution of the highest sea level each year. These\n",
        "extreme sea levels can be obtained by combining the absolute sea level\n",
        "(we will use our distribution of global sea levels for this), the rate\n",
        "of subsidence (how much the ground sinks), and the distribution of storm\n",
        "tides (the highest tide level, which is often the result of storm surges\n",
        "combining with high tide).\n",
        "\n",
        "Assume for this problem that:\n",
        "\n",
        "1.  the annual rate of subsidence $\\nu$ is 1.2mm/yr;\n",
        "2.  the distribution of annual storm tide maxima, above the mean sea\n",
        "    level, is (and is expected to continue to be) given by a\n",
        "    $\\text{GeneralizedExtremeValue}(900, 25, 0.3)$ distribution, which\n",
        "    looks like this:"
      ],
      "id": "b83ded61-e85e-436f-a0ad-a803c17f141f"
    },
    {
      "cell_type": "code",
      "execution_count": 6,
      "metadata": {},
      "outputs": [
        {
          "output_type": "display_data",
          "metadata": {},
          "data": {
            "text/html": [
              "<img src=\"data:image/png;base64,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\" />"
            ]
          }
        }
      ],
      "source": [
        "tide_distribution = GeneralizedExtremeValue(900, 25, 0.3)\n",
        "    histogram(rand(tide_distribution, 10000), xlabel=\"Storm Tide Height (mm)\", ylabel=\"Count\", legend=:false)"
      ],
      "id": "e6723e41"
    },
    {
      "cell_type": "markdown",
      "metadata": {},
      "source": [
        "Feel free to just sample from `tide_distribution` in your solution\n",
        "below."
      ],
      "id": "10190515-fd3f-47a5-9209-cc3b3f8d99b9"
    },
    {
      "cell_type": "markdown",
      "metadata": {},
      "source": [
        "#### Problem 3.1 (2 points)\n",
        "\n",
        "How would you use your sea-level simulations and the above information\n",
        "to compute a distribution of extreme sea levels in 2100 relative to 2010\n",
        "mean sea level? Write down the approach in clear steps, with equations\n",
        "as needed."
      ],
      "id": "765e4efb-80ef-43bf-b9bc-9c53c228401c"
    },
    {
      "cell_type": "markdown",
      "metadata": {},
      "source": [
        "#### Problem 3.2 (3 points)\n",
        "\n",
        "Follow the steps above and produce a histogram of the extreme sea levels\n",
        "in 2100 relative to 2010."
      ],
      "id": "9db055e7-9bf0-4f1e-934f-1a06f99b4d40"
    },
    {
      "cell_type": "markdown",
      "metadata": {},
      "source": [
        "#### Problem 3.2 (3 points)\n",
        "\n",
        "Follow the steps above and produce a histogram of the extreme sea levels\n",
        "in 2100 relative to 2010."
      ],
      "id": "87463748-bd89-43ba-98b9-0b8dd8d62c88"
    },
    {
      "cell_type": "markdown",
      "metadata": {},
      "source": [
        "#### Problem 3.4 (3 points)\n",
        "\n",
        "Based on your analysis, would you recommend that the levee be heightened\n",
        "again in the future, and if so, how high? What other information might\n",
        "you need, if any, to make your recommendation?"
      ],
      "id": "51ee5e7d-0178-4250-ac76-d663a4f7c930"
    },
    {
      "cell_type": "markdown",
      "metadata": {},
      "source": [
        "## References\n",
        "\n",
        "List any external references consulted, including classmates."
      ],
      "id": "afe50554-50bf-4b42-bfeb-2a2bc9f0f7da"
    }
  ],
  "nbformat": 4,
  "nbformat_minor": 5,
  "metadata": {
    "kernelspec": {
      "name": "julia-1.9",
      "display_name": "Julia 1.9.2",
      "language": "julia"
    }
  }
}