{
  "cells": [
    {
      "cell_type": "markdown",
      "metadata": {},
      "source": [
        "# BEE 4750 Homework 3: Uncertain Sea-Level Rise and Levee Reliability\n",
        "\n",
        "**Name**:\n",
        "\n",
        "**ID**:\n",
        "\n",
        "> **Due Date**\n",
        ">\n",
        "> Friday, 10/06/23, 9:00pm\n",
        "\n",
        "## Overview\n",
        "\n",
        "### Instructions\n",
        "\n",
        "This assignment asks you to conduct a Monte Carlo analysis of levee\n",
        "reliability in the face of uncertain changes to local sea levels. You\n",
        "will propagate uncertainty in equilibrium climate sensitivity through\n",
        "the energy balance model to obtain a distribution of temperatures, which\n",
        "will then drive a model of sea-level rise. You will finally use this\n",
        "distribution to assess the probability that a planned levee will achieve\n",
        "its desired reliability standard.\n",
        "\n",
        "### Load Environment\n",
        "\n",
        "The following code loads the environment and makes sure all needed\n",
        "packages are installed. This should be at the start of most Julia\n",
        "scripts."
      ],
      "id": "5e2b5dfd-93d1-4a35-b6f0-f7b5055be766"
    },
    {
      "cell_type": "code",
      "execution_count": 1,
      "metadata": {},
      "outputs": [],
      "source": [
        "import Pkg\n",
        "Pkg.activate(@__DIR__)\n",
        "Pkg.instantiate()"
      ],
      "id": "d0d91528"
    },
    {
      "cell_type": "code",
      "execution_count": 2,
      "metadata": {},
      "outputs": [],
      "source": [
        "using Random\n",
        "using Plots\n",
        "using LaTeXStrings\n",
        "using Distributions\n",
        "using CSV\n",
        "using DataFrames"
      ],
      "id": "59137c72"
    },
    {
      "cell_type": "markdown",
      "metadata": {},
      "source": [
        "## Problems (Total: 40 Points)"
      ],
      "id": "45fedaab-1fdf-429b-9080-cea294fc3f7b"
    },
    {
      "cell_type": "markdown",
      "metadata": {},
      "source": [
        "### Problem 1 (12 points)\n",
        "\n",
        "Recall from class that the simple energy balance model (EBM) of\n",
        "planetary energy balance links changes in radiative forcing ($F$) to\n",
        "global mean temperature ($T$) changes through the discretized equation\n",
        "$$T_{i+1} = T_{i} + \\frac{F_i - \\lambda T_i}{cd} \\times \\Delta t,$$\n",
        "where $i$ is the current time step, $c = 4.184 \\times 10^6$\n",
        "J/K/m<sup>2</sup> is the heat capacity of water per unit area, $d$ is\n",
        "the (uncertain) depth of the mixing layer, $\\Delta t$ is the annual time\n",
        "step in seconds and $\\lambda = F_{\\text{2xCO}_2}/S$ is the climate\n",
        "feedback parameter in W/m<sup>2</sup>/$^\\circ$ C, where $S$ is the\n",
        "equilibrium climate sensitivity (the uncertain equilibrium temperature\n",
        "change resulting from a doubling of atmospheric CO<sub>2</sub>).\n",
        "Finally, while total radiative forcing can be the result of non-aerosol\n",
        "and aerosol effects, we do not know the relative intensity of aerosol\n",
        "forcing, so we represent this with an uncertain aerosol scaling factor\n",
        "$\\alpha$.\n",
        "\n",
        "We can implement this model with the following Julia function. We will\n",
        "assume an ocean mixing depth $d = 100$ m and an aerosol scaling factor\n",
        "$\\alpha = 1.3$ so we can focus on the uncertainty in $S$.\n",
        "\n",
        "The last technical concern is that “global mean temperature” does not\n",
        "make sense in absolute terms as a marker of climate change. Instead, we\n",
        "typically refer to temperature changes relative to some historical\n",
        "pre-industrial baseline. In this case, we will use the period from\n",
        "1880-1900, though this choice can vary."
      ],
      "id": "e1be7763-79fc-4594-9363-12c699401f1f"
    },
    {
      "cell_type": "code",
      "execution_count": 3,
      "metadata": {},
      "outputs": [
        {
          "output_type": "display_data",
          "metadata": {},
          "data": {
            "text/plain": [
              "energy_balance_model (generic function with 1 method)"
            ]
          }
        }
      ],
      "source": [
        "# we need to split up the aerosol and non-aerosol forcings when we call the function\n",
        "function energy_balance_model(S, forcing_aerosol, forcing_non_aerosol)\n",
        "    d = 100 # ocean mixing depth [m]\n",
        "    α = 1.3 # aerosol scaling factor\n",
        "    F2xCO₂ = 4.0 # radiative forcing [W/m²] for a doubling of CO₂\n",
        "    λ = F2xCO₂/S\n",
        "    \n",
        "    c = 4.184e6 # heat capacity/area [J/K/m²]\n",
        "    C = c*d # heat capacity of mixed layer (per area)\n",
        "\n",
        "    F = forcing_non_aerosol + α*forcing_aerosol # radiative forcing\n",
        "\n",
        "    Δt = 31558152.0 # annual timestep [s]\n",
        "    \n",
        "    T = zero(F)\n",
        "    for i in 1:length(F)-1\n",
        "        T[i+1] = T[i] + (F[i] - λ*T[i])/C * Δt\n",
        "    end\n",
        "    # return temperature anomaly relative to 1880-1900 baseline\n",
        "    return T .- mean(T[1:21]) \n",
        "end"
      ],
      "id": "40109a0d"
    },
    {
      "cell_type": "markdown",
      "metadata": {},
      "source": [
        "Finally, we need to load some radiative forcing data. We will use the\n",
        "radiative forcing scenario RCP 8.5. We can load this data, which is in a\n",
        "`.csv` (comma-delimited) file, into a `DataFrame`, which is a tabular\n",
        "data structure. Rows and columns in a `DataFrame` can be accessed using\n",
        "their numerical index (like a matrix), but columns also have names; you\n",
        "can access a particular column in a dataframe `df` by name using\n",
        "`df.colname` or `df[:, \"colname\"]`.\n",
        "\n",
        "Of note: this data set goes from 1750–2500, so you will need to take\n",
        "care to make sure you are using the right years at each step. For\n",
        "example, here we will constrain the data to 1880–2100, which is the\n",
        "period we are interested in."
      ],
      "id": "fd2bb2a4-7c59-4cd1-9029-00ba7a566b85"
    },
    {
      "cell_type": "code",
      "execution_count": 4,
      "metadata": {},
      "outputs": [
        {
          "output_type": "display_data",
          "metadata": {},
          "data": {
            "text/plain": [
              "221-element Vector{Float64}:\n",
              "  0.42741479112315905\n",
              "  0.4487940147601447\n",
              "  0.4900144276528058\n",
              " -0.019811270078689047\n",
              " -1.480725700367619\n",
              " -0.3154905163510021\n",
              "  0.233186559774844\n",
              "  0.2923308952663089\n",
              "  0.45833872365810924\n",
              "  0.5168189581089915\n",
              "  0.4144761329626494\n",
              "  0.2762327724171124\n",
              "  0.48656957869238376\n",
              "  ⋮\n",
              "  9.560222650653953\n",
              "  9.671039126229665\n",
              "  9.772610821460296\n",
              "  9.879065698371564\n",
              "  9.946850640754889\n",
              " 10.002169546141578\n",
              " 10.061009359425011\n",
              " 10.115684195707905\n",
              " 10.182946497594184\n",
              " 10.249699157847772\n",
              " 10.331407709334023\n",
              " 10.424544495740134"
            ]
          }
        }
      ],
      "source": [
        "# The CSV is read into a DataFrame object, and we specify that it is comma delimited\n",
        "forcings_all_85 = CSV.read(\"data/ERF_ssp585_1750-2500.csv\", DataFrame, delim=\",\")\n",
        "\n",
        "# get the years corresponding to the forcings\n",
        "t = Int64.(forcings_all_85[!,\"year\"]) # Ensure that years are interpreted as integers\n",
        "# find the indices of the years 1880 and 2100\n",
        "# we can do this with the indexin function\n",
        "time_bounds = indexin([1880, 2100], t)\n",
        "years = time_bounds[1]:time_bounds[2] # create range of years\n",
        "\n",
        "# Separate out the individual components\n",
        "forcing_co2_85 = forcings_all_85[years,\"co2\"]\n",
        "# Get total aerosol and non-aerosol forcings\n",
        "forcing_aerosol_rad_85 = forcings_all_85[years,\"aerosol-radiation_interactions\"]\n",
        "forcing_aerosol_cloud_85 = forcings_all_85[years,\"aerosol-cloud_interactions\"]\n",
        "forcing_aerosol_85 = forcing_aerosol_rad_85 + forcing_aerosol_cloud_85 # aerosol forcings\n",
        "forcing_total_85 = forcings_all_85[years,\"total\"] \n",
        "forcing_non_aerosol_85 = forcing_total_85 - forcing_aerosol_85 # non-aerosol forcings"
      ],
      "id": "106eeca9"
    },
    {
      "cell_type": "markdown",
      "metadata": {},
      "source": [
        "For this assignment, you can use the `forcing_aerosol_85` and\n",
        "`forcing_non_aerosol_85` vectors as is to correspond to the relevant\n",
        "forcings. You will need to use the vector `t` to find the appropriate\n",
        "years for analysis."
      ],
      "id": "aedf7391-0c85-46db-880b-6bcb90e25920"
    },
    {
      "cell_type": "markdown",
      "metadata": {},
      "source": [
        "#### Problem 1.1 (3 points)\n",
        "\n",
        "Assume that $S$ is distributed according to\n",
        "$\\text{LogNormal}(\\log(3.2), \\log{2}/3)$ (as in class). Draw 10,000\n",
        "samples from this distribution and make a histogram."
      ],
      "id": "76f7a491-436d-4f7f-a614-50001a76e9d0"
    },
    {
      "cell_type": "markdown",
      "metadata": {},
      "source": [
        "#### Problem 1.2 (5 points)\n",
        "\n",
        "Use the EBM to propagate your samples of $S$ to a distribution of global\n",
        "mean temperature. Plot the median and 90% predictive distribution\n",
        "(between the .05 and .95 quantiles) from 1880-2100."
      ],
      "id": "b2288cf1-6596-4fb5-acad-493b6d9c967a"
    },
    {
      "cell_type": "markdown",
      "metadata": {},
      "source": [
        "#### Problem 1.3 (4 points)\n",
        "\n",
        "Make a histogram of global mean temperature projections in 2100. If you\n",
        "compare this distribution to the distribution of $S$ from Problem 1.1,\n",
        "what do you observe?"
      ],
      "id": "68609e97-48c4-46ea-9590-e8799b8462d6"
    },
    {
      "cell_type": "markdown",
      "metadata": {},
      "source": [
        "### Problem 2 (15 points)\n",
        "\n",
        "Changes to global temperatures cause changes in global sea levels\n",
        "through several mechanisms, including thermal expansion (the change in\n",
        "ocean volume due to increased heat content) and melting land-based ice.\n",
        "One simple way to represent this link is through the following model,\n",
        "proposed by [Rahmstorf (2007)](https://doi.org/10.1126/science.1135456).\n",
        "\n",
        "$$\\frac{dH}{dt} = a(T-T_0),$$\n",
        "\n",
        "where $H$ is the global mean sea level in mm, $T$ is global mean\n",
        "temperature, $T_0$ is an equilibrium temperature (where there is no\n",
        "change in sea levels), and $a$ is a proportionality constant. This model\n",
        "can be discretized to give $$H_{i+1} - H_i = a (T_i - T_0).$$\n",
        "\n",
        "Note that, like with global mean temperature, the notion of “global mean\n",
        "sea level” does not make sense in absolute terms (were sea levels ever\n",
        "at “zero”?). Instead, we want to normalize this relative to some\n",
        "historical baseline. In this case (with a view towards Problem 3), we\n",
        "will compute our sea levels relative to the 2010 sea level. Note that in\n",
        "addition to the model parameters, we also need an initial sea-level\n",
        "parameter $H_0$ which will give us the right anomaly level.\n",
        "\n",
        "The best estimates for these parameters are:\n",
        "\n",
        "-   $a = 1.86$;\n",
        "-   $H_0 = -223$;\n",
        "-   $T_0 = -0.62$"
      ],
      "id": "78572118-4e68-427a-a21c-2d00519cb5cb"
    },
    {
      "cell_type": "markdown",
      "metadata": {},
      "source": [
        "#### Problem 2.1 (5 points)\n",
        "\n",
        "Write a function `sea_level_model()` to implement the mathematical\n",
        "sea-level rise model described above. It should take in needed\n",
        "parameters and a vector of temperatures and return a vector of sea\n",
        "levels. To test your function, use the provided temperature series\n",
        "`historical_temps` (read in below) to compute the global mean sea level\n",
        "anomaly in 2022 (the last year of the dataset) with the parameter values\n",
        "above; you should get a value of approximately 43mm."
      ],
      "id": "b44d3900-4ec8-4a01-a6c8-3f597a63e47c"
    },
    {
      "cell_type": "code",
      "execution_count": 5,
      "metadata": {},
      "outputs": [
        {
          "output_type": "display_data",
          "metadata": {},
          "data": {
            "text/plain": [
              "143-element Vector{Float64}:\n",
              "  0.07297116761904765\n",
              "  0.15655772761904765\n",
              "  0.09327316761904769\n",
              "  0.04232884761904765\n",
              " -0.10351681238095234\n",
              " -0.08232033238095232\n",
              " -0.03210037238095231\n",
              " -0.10998251238095236\n",
              "  0.00942435761904764\n",
              "  0.13890768761904768\n",
              " -0.11805492238095233\n",
              " -0.012511692380952344\n",
              " -0.11875525238095236\n",
              "  ⋮\n",
              "  0.9265009776190476\n",
              "  0.9664103476190478\n",
              "  1.0123786476190477\n",
              "  1.0616748976190478\n",
              "  1.2139176176190476\n",
              "  1.3217303776190477\n",
              "  1.2339774976190476\n",
              "  1.1514572476190477\n",
              "  1.2798758476190477\n",
              "  1.3115970476190477\n",
              "  1.1506591476190478\n",
              "  1.1896871476190476"
            ]
          }
        }
      ],
      "source": [
        "historical_temp_data = CSV.read(\"data/HadCRUT.5.0.1.0.analysis.summary_series.global.annual.csv\", DataFrame, delim=\",\")\n",
        "# column 2 is the temperature anomaly, column 1 is the year\n",
        "temp_bds = indexin([1880, 1900], historical_temp_data[!, 1]) # find the index of 2010 for normalization\n",
        "historical_temp_data[:, 2] .-= mean(historical_temp_data[temp_bds[1]:temp_bds[2], 2])\n",
        "historical_temps = historical_temp_data[temp_bds[1]:end, 2]"
      ],
      "id": "8b8a476b"
    },
    {
      "cell_type": "markdown",
      "metadata": {},
      "source": [
        "#### Problem 2.2 (5 points)\n",
        "\n",
        "Evaluate `sea_level_model()` using the projected temperature ensemble\n",
        "from Problem 1. Plot the 90% projection interval of the sea levels."
      ],
      "id": "82beba14-a51f-4e65-b50d-45f8c40b7e1d"
    },
    {
      "cell_type": "markdown",
      "metadata": {},
      "source": [
        "#### Problem 2.3 (5 points)\n",
        "\n",
        "Make a histogram of the sea-level anomaly in 2100. What can you observe\n",
        "about how the ECS uncertainty has impacted sea-level uncertainty under\n",
        "this radiative forcing scenario? What might the implications be of only\n",
        "using the best-estimate ECS value?"
      ],
      "id": "5b85a95c-4bab-4b97-a5f1-56a62134938a"
    },
    {
      "cell_type": "markdown",
      "metadata": {},
      "source": [
        "### Problem 3 (13 points)\n",
        "\n",
        "You’ve been asked to consult on a levee reliability analysis. For\n",
        "context, levees in the United States are supposed to only fail once in\n",
        "100 years, or, in other words, to have at most a 1% chance of failure in\n",
        "a given year. We will assume for this problem that the only way in which\n",
        "a levee fails is by being overtopped (note: this is unrealistic).\n",
        "\n",
        "We can assess the probability of levee overtopping by comparing its\n",
        "height to a distribution of extreme sea levels. A common approach is to\n",
        "look at the distribution of the highest sea level each year. These\n",
        "extreme sea levels can be obtained by combining the absolute sea level\n",
        "(we will use our distribution of global sea levels for this), the rate\n",
        "of subsidence (how much the ground sinks), and the distribution of storm\n",
        "tides (the highest tide level, which is often the result of storm surges\n",
        "combining with high tide).\n",
        "\n",
        "Assume for this problem that:\n",
        "\n",
        "1.  the annual rate of subsidence $\\nu$ is 1.2mm/yr;\n",
        "2.  the distribution of annual storm tide maxima, above the mean sea\n",
        "    level, is (and is expected to continue to be) given by a\n",
        "    $\\text{GeneralizedExtremeValue}(900, 25, 0.3)$ distribution, which\n",
        "    looks like this:"
      ],
      "id": "b25d26df-b1b7-4a63-9718-ca289e40b99d"
    },
    {
      "cell_type": "code",
      "execution_count": 6,
      "metadata": {},
      "outputs": [
        {
          "output_type": "display_data",
          "metadata": {},
          "data": {
            "text/html": [
              "<img src=\"data:image/png;base64,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\" />"
            ]
          }
        }
      ],
      "source": [
        "tide_distribution = GeneralizedExtremeValue(900, 25, 0.3)\n",
        "    histogram(rand(tide_distribution, 10000), xlabel=\"Storm Tide Height (mm)\", ylabel=\"Count\", legend=:false)"
      ],
      "id": "be080886"
    },
    {
      "cell_type": "markdown",
      "metadata": {},
      "source": [
        "Feel free to just sample from `tide_distribution` in your solution\n",
        "below."
      ],
      "id": "de0c1873-9cfd-49ac-863a-2cdfd281b5f1"
    },
    {
      "cell_type": "markdown",
      "metadata": {},
      "source": [
        "#### Problem 3.1 (2 points)\n",
        "\n",
        "How would you use your sea-level simulations and the above information\n",
        "to compute a distribution of extreme sea levels in 2100 relative to 2010\n",
        "mean sea level? Write down the approach in clear steps, with equations\n",
        "as needed."
      ],
      "id": "e615facb-b50b-4e1b-bf2d-65aeec82ed7c"
    },
    {
      "cell_type": "markdown",
      "metadata": {},
      "source": [
        "#### Problem 3.2 (3 points)\n",
        "\n",
        "Follow the steps above and produce a histogram of the extreme sea levels\n",
        "in 2100 relative to 2010."
      ],
      "id": "e33b73a5-c191-4b57-b670-6399a13612e6"
    },
    {
      "cell_type": "markdown",
      "metadata": {},
      "source": [
        "#### Problem 3.3 (5 points)\n",
        "\n",
        "The current levee was heightened in 2010 to 2m above the 2010 mean sea\n",
        "level. Based on your analysis above, what is the probability that the\n",
        "levee will be overtopped in 2100 (remember that the reliability standard\n",
        "is 1%)?"
      ],
      "id": "c190c24d-f064-4d18-883a-d55275241af3"
    },
    {
      "cell_type": "markdown",
      "metadata": {},
      "source": [
        "#### Problem 3.4 (3 points)\n",
        "\n",
        "Based on your analysis, would you recommend that the levee be heightened\n",
        "again in the future, and if so, how high? What other information might\n",
        "you need, if any, to make your recommendation?"
      ],
      "id": "5b550483-485c-40bb-84f1-eb89da0149c3"
    },
    {
      "cell_type": "markdown",
      "metadata": {},
      "source": [
        "## References\n",
        "\n",
        "List any external references consulted, including classmates."
      ],
      "id": "a0f07d7d-9643-4640-9f65-8741dbcb34a8"
    }
  ],
  "nbformat": 4,
  "nbformat_minor": 5,
  "metadata": {
    "kernelspec": {
      "name": "julia-1.9",
      "display_name": "Julia 1.9.3",
      "language": "julia"
    },
    "language_info": {
      "name": "julia",
      "file_extension": ".jl",
      "mimetype": "application/julia",
      "version": "1.9.3"
    }
  }
}